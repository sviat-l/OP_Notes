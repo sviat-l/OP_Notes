{
 "cells": [
  {
   "cell_type": "markdown",
   "source": [
    "# Lecture 7 Abstract data type. Arrays\n"
   ],
   "metadata": {}
  },
  {
   "cell_type": "markdown",
   "source": [
    "## Array"
   ],
   "metadata": {}
  },
  {
   "cell_type": "code",
   "execution_count": 3,
   "source": [
    "import ctypes\n",
    "\n",
    "class Array:\n",
    "    def __init__(self, size):\n",
    "        assert size > 0, 'Array size must be > 0'\n",
    "        self._size = size\n",
    "        PyArrayType = ctypes.py_object * size\n",
    "        self._elements = PyArrayType()\n",
    "\n",
    "        self.clear(None)\n",
    "\n",
    "#  Array methods\n",
    "    def __len__(self):\n",
    "        return self._size\n",
    "    \n",
    "    def __getitem__(self, index):\n",
    "        assert index >= 0 and index < len(self), 'Array subscript out of range'\n",
    "        return self._elements[index]\n",
    "\n",
    "    def __setitem__(self, index, value):\n",
    "        assert index>=0 and index<len(self), 'Array subscript out of range'\n",
    "        self._elements[index] = value\n",
    "\n",
    "    def clear(self, value):\n",
    "        for i in range(len(self)):\n",
    "            self._elements[i] = value\n",
    "\n",
    "    def __iter__(self):\n",
    "        return _ArrayIterator(self._elements)"
   ],
   "outputs": [],
   "metadata": {}
  },
  {
   "cell_type": "code",
   "execution_count": 4,
   "source": [
    "class _ArrayIterator:\n",
    "    def __init__(self, the_array):\n",
    "        self._array_ref = the_array\n",
    "        self._cur_index = 0\n",
    "\n",
    "    def __iter__(self):\n",
    "        return self\n",
    "    \n",
    "    def __next__(self):\n",
    "        if self._cur_index < len(self._array_ref):\n",
    "            self._cur_index += 1\n",
    "            return self._array_ref[self._cur_index-1]\n",
    "        else:\n",
    "            raise StopIteration"
   ],
   "outputs": [],
   "metadata": {}
  },
  {
   "cell_type": "code",
   "execution_count": 5,
   "source": [
    "import random\n",
    "\n",
    "array = Array(5)\n",
    "for i in range(len(array)):\n",
    "    array[i] = random.random()\n",
    "for i in range(len(array)):\n",
    "    print(array[i])\n",
    "print('END')\n",
    "\n",
    "iterator = array.__iter__()\n",
    "while True:\n",
    "    try:\n",
    "        value = iterator.__next__()\n",
    "        print(value)\n",
    "    except StopIteration:\n",
    "        break"
   ],
   "outputs": [
    {
     "output_type": "stream",
     "name": "stdout",
     "text": [
      "0.8726803988082572\n",
      "0.224737508729959\n",
      "0.13488843996063804\n",
      "0.30815902135404194\n",
      "0.3514960970425225\n",
      "END\n",
      "0.8726803988082572\n",
      "0.224737508729959\n",
      "0.13488843996063804\n",
      "0.30815902135404194\n",
      "0.3514960970425225\n"
     ]
    }
   ],
   "metadata": {}
  },
  {
   "cell_type": "markdown",
   "source": [
    "## Array2D"
   ],
   "metadata": {}
  },
  {
   "cell_type": "code",
   "execution_count": 6,
   "source": [
    "class Array2D:\n",
    "    def __init__(self, num_rows, num_cols):\n",
    "        self.rows = Array(num_rows)\n",
    "        for i in range(num_rows):\n",
    "            self.rows[i] = Array(num_cols)\n",
    "\n",
    "    def num_rows(self):\n",
    "        return len(self.rows)\n",
    "\n",
    "    def num_cols(self):\n",
    "        return len(self.rows[0])\n",
    "\n",
    "    def clear(self, value):\n",
    "        for row in rows:\n",
    "            for i in range(len(row)):\n",
    "                row[i] = value\n",
    "\n",
    "    def __getitem__(self, index_tuple):\n",
    "        assert len(index_tuple) == 2, 'Invalid number of array substrings'\n",
    "        row, col = index_tuple\n",
    "        assert 0 <= row <= self.num_rows() and 0 <= col <= self.num_cols(),\\\n",
    "                                             'Array substring out of range'\n",
    "        return self.rows[row][col]\n",
    "\n",
    "    def __setitem__(self, index_tuple, value):\n",
    "        assert len(index_tuple) == 2, 'Invalid number of array substrings'\n",
    "        row, col = index_tuple\n",
    "        assert 0 <= row <= self.num_rows() and 0 <= col <= self.num_cols(),\\\n",
    "                                             'Array substring out of range'\n",
    "        self.rows[row][col] = value\n",
    "    "
   ],
   "outputs": [],
   "metadata": {}
  },
  {
   "cell_type": "code",
   "execution_count": 9,
   "source": [
    "a = Array2D(2,2)\n",
    "a.__setitem__((1,1), 1)\n",
    "a[0,1] = 2\n",
    "print(a[1,1], a[0,1])\n"
   ],
   "outputs": [
    {
     "output_type": "stream",
     "name": "stdout",
     "text": [
      "1 2\n"
     ]
    }
   ],
   "metadata": {}
  },
  {
   "cell_type": "markdown",
   "source": [
    "## Dynamic Array"
   ],
   "metadata": {}
  },
  {
   "cell_type": "code",
   "execution_count": null,
   "source": [
    "class DynamicArray:\n",
    "    def __init__(self):\n",
    "        self._n =0\n",
    "        self._capasity = 1\n",
    "        self._A = self._make_array(self._capacity)\n",
    "\n",
    "    def __len__(self):\n",
    "        return self._n\n",
    "\n",
    "    def _make_array(self, num):\n",
    "        return (num* ctypes.py_object)()\n",
    "\n",
    "    def _resize(self, c):\n",
    "        B = self._make_array(c)\n",
    "        for i in range(self._n):\n",
    "            B[i] = self._A[i]\n",
    "        self._A = B\n",
    "        self._capacity = c\n",
    "\n",
    "    def __getitem__(self, i):\n",
    "        if not 0<=i<= self._n:\n",
    "            raise IndexError 'Index out of range'\n",
    "        return self._A[i]\n",
    "\n",
    "    def __setitem__(self, i, value):\n",
    "        if not 0<=i<= self._n:\n",
    "            raise IndexError 'Index out of range'\n",
    "        self._A[i] = value\n",
    "\n",
    "    def append(self, value):\n",
    "        if self._capacity == self._n:\n",
    "            self.resize(2*self._capacity)\n",
    "        self._A[self._n] = value \n",
    "        self._n += 1\n",
    "\n",
    "    def insert(self, k, value):\n",
    "        if not 0<=k<=self._n:\n",
    "            raise IndexError('Index out of range')\n",
    "        if self._capacity == self._n:\n",
    "            self.resize(2*self._capacity)\n",
    "        for i in range(self._n, k, -1):\n",
    "            self._A[i] = self._A[i-1]\n",
    "        self._A[k] = value\n",
    "        self._n += 1\n",
    "\n",
    "    def remove(self, value):\n",
    "        for j in range(self._n):\n",
    "            if self._A == value:\n",
    "                for k in range(j, self._n-1):\n",
    "                    self._A[k] = self._A[k+1]\n",
    "                self._A[self._n-1] = None\n",
    "                self._n -= 1\n",
    "                if 2*self._n == self._capacity:\n",
    "                    self._resize(self._n)\n",
    "                return\n",
    "        raise ValueError('Value not found')\n",
    "\n",
    "    def pop(self, k=None):\n",
    "        \"\"\" Remove item on index=k, if not stated, delete last item\n",
    "            shift subsequent values rightward.\"\"\"\n",
    "        if k is None:\n",
    "            k = self._n - 1\n",
    "        elif not 0<=k<= self._n - 1:\n",
    "            raise IndexError('Index out of range')\n",
    "\n",
    "       for i in range(k, self._n-1):\n",
    "            self._A[i] = self._A[i+1]\n",
    "\n",
    "        self._A[self._n-1] = None\n",
    "        self._n -= 1\n",
    "\n",
    "        if 2*self._n == self._capacity:\n",
    "            self._resize(self._n)\n",
    "        "
   ],
   "outputs": [],
   "metadata": {}
  }
 ],
 "metadata": {
  "orig_nbformat": 4,
  "language_info": {
   "name": "python",
   "version": "3.10.2",
   "mimetype": "text/x-python",
   "codemirror_mode": {
    "name": "ipython",
    "version": 3
   },
   "pygments_lexer": "ipython3",
   "nbconvert_exporter": "python",
   "file_extension": ".py"
  },
  "kernelspec": {
   "name": "python3",
   "display_name": "Python 3.10.2 64-bit"
  },
  "interpreter": {
   "hash": "4e1d9a8909477db77738c33245c29c7265277ef753467dede8cf3f814cde494e"
  }
 },
 "nbformat": 4,
 "nbformat_minor": 2
}