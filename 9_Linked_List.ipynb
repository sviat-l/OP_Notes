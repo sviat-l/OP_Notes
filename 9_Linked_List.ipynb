{
 "cells": [
  {
   "cell_type": "markdown",
   "source": [
    "# Lecture 9 Linked List"
   ],
   "metadata": {}
  },
  {
   "cell_type": "markdown",
   "source": [
    " ## Class Node for Linked list"
   ],
   "metadata": {}
  },
  {
   "cell_type": "code",
   "execution_count": 114,
   "source": [
    "class Node:\n",
    "    \"\"\" Represents single linked node \"\"\"\n",
    "\n",
    "    def __init__(self, data, next=None):\n",
    "        \"\"\" Initialize note with default next of None\"\"\"\n",
    "        self.data = data\n",
    "        self.next = next\n",
    "\n",
    "    def __str__(self):\n",
    "        \"\"\" print data on calling str method \"\"\"\n",
    "        return f'data={self.data}'\n",
    "\n",
    "    def __repr__(self):\n",
    "        \"\"\" represent method return  data and next node data\"\"\"\n",
    "        return f'Node(data={self.data}, next={self.next.data})' if self.next is not None\\\n",
    "               else f'Node(data={self.data}, next={self.next})'\n",
    "\n"
   ],
   "outputs": [],
   "metadata": {}
  },
  {
   "cell_type": "markdown",
   "source": [
    "### Setters, getters and rasing errors"
   ],
   "metadata": {}
  },
  {
   "cell_type": "code",
   "execution_count": 120,
   "source": [
    "def correct_index_range(llst):\n",
    "    \"\"\" raise index error if index is out of range\"\"\"\n",
    "    if llst is None:\n",
    "        raise IndexError('Index out of range')\n",
    "def isEmpty(llst):\n",
    "    \"\"\" raise error if you look for element in empty linked list\"\"\"\n",
    "    if llst is None:\n",
    "        raise AssertionError('Empty linked list')\n",
    "\n",
    "\n",
    "def getitem(linked_list, index):\n",
    "    \"\"\" return item( with link) by index in linked list\"\"\"\n",
    "    isEmpty(linked_list)\n",
    "    while index > 0:\n",
    "        linked_list = linked_list.next\n",
    "        correct_index_range(linked_list)\n",
    "        index -= 1\n",
    "    return linked_list\n",
    "\n",
    "def get_tail(linked_list):\n",
    "    \"\"\" return data of the last element in linked list\"\"\"\n",
    "    isEmpty(linked_list)\n",
    "    while linked_list.next is not None:\n",
    "        linked_list = linked_list.next\n",
    "    return linked_list.data\n",
    "\n",
    "def getdata(linked_list, index=-1):\n",
    "    \"\"\" return item(with link) by index in linked list\n",
    "    if index=-1 return data of the last element\"\"\"\n",
    "    if index==-1:\n",
    "        return get_tail(linked_list)\n",
    "    return getitem(linked_list, index).data\n",
    "\n",
    "def setitem(linked_list, index, value):\n",
    "    \"\"\" set value to node with stated index \"\"\"\n",
    "    probe = getitem(linked_list, index)\n",
    "    probe.data = value\n"
   ],
   "outputs": [],
   "metadata": {}
  },
  {
   "cell_type": "code",
   "execution_count": null,
   "source": [
    "node3 = Node('C', None)\n",
    "node2 = Node('B', node3)\n",
    "node1 = Node('A', node2)\n",
    "print(node1.data, node1.next.data, node1.next.next.data)\n",
    "\n",
    " \n",
    "print(getdata(node1, 2) == getdata(node3,0) == getdata(node2,1))\n",
    "setitem(node1, 2, 'D')\n",
    "print(getdata(node2, 1), getdata(node1, 2 ))\n"
   ],
   "outputs": [],
   "metadata": {}
  },
  {
   "cell_type": "markdown",
   "source": [
    "### Index, Reverse and Insert methods"
   ],
   "metadata": {}
  },
  {
   "cell_type": "code",
   "execution_count": 117,
   "source": [
    "def index(linked_list, value):\n",
    "    \"\"\" return index of the first element in linked list that has stated value.\n",
    "    If there are not any of them return -1 \"\"\"\n",
    "    index = 0\n",
    "    while linked_list is not None and linked_list.data!=value:\n",
    "        linked_list = linked_list.next\n",
    "        index+=1\n",
    "    return index if linked_list is not None else -1\n",
    "\n",
    "def reverse(linked_list):\n",
    "    \"\"\" reverse linked list\"\"\"\n",
    "    lreversed = None\n",
    "    while linked_list is not None:\n",
    "        lreversed = Node(linked_list.data, lreversed)\n",
    "        linked_list = linked_list.next\n",
    "    return lreversed\n",
    "\n",
    "def insert(linked_list, value, index=0):\n",
    "    \"\"\" insert value on stated index with shifting subsequent values rightward\n",
    "    if index=0, insert in head. If index=-1 insert in tail, else on stated index \"\"\"\n",
    "    if index==0:\n",
    "        return Node(value, linked_list)\n",
    "    if index == -1:\n",
    "        return tail_insert(linked_list, value)\n",
    "\n",
    "    isEmpty(linked_list)\n",
    "    while index > 0:\n",
    "        prev = linked_list\n",
    "        linked_list = linked_list.next\n",
    "        correct_index_range(linked_list)\n",
    "        index -= 1\n",
    "    new_node = Node(value, linked_list)\n",
    "    prev.next = new_node\n",
    "\n",
    "\n",
    "def tail_insert(linked_list, value):\n",
    "    \"\"\" insert value in the end of the linked list\"\"\"\n",
    "    new_last_node = Node(value)\n",
    "    if linked_list is None:\n",
    "        return new_last_node\n",
    "    while linked_list.next is not None:\n",
    "        linked_list = linked_list.next\n",
    "    linked_list.next = new_last_node\n"
   ],
   "outputs": [],
   "metadata": {}
  },
  {
   "cell_type": "code",
   "execution_count": null,
   "source": [
    "node3 = Node('C', None)\n",
    "node2 = Node('B', node3)\n",
    "node1 = Node('A', node2)\n",
    "tail_insert(node1, 'D')\n",
    "print(node1.data == get_tail(reverse(node1)))\n",
    "print(index(node1, 'D') == 3)\n",
    "print(getdata(node1, 1) ,   getdata(node1, 2) )\n",
    "insert(node1, '-1', -1)\n",
    "print( 'tail=', get_tail(node1))\n",
    "print( [insert(node1, '0', 0)])"
   ],
   "outputs": [],
   "metadata": {}
  },
  {
   "cell_type": "markdown",
   "source": [
    "### Remove and Pop methods"
   ],
   "metadata": {}
  },
  {
   "cell_type": "code",
   "execution_count": 119,
   "source": [
    "def remove(linked_list, value):\n",
    "    \"\"\" remove item with data=value \"\"\"\n",
    "    isEmpty(linked_list)\n",
    "    prev = None\n",
    "    while linked_list is not None and linked_list.data != value:\n",
    "        prev = linked_list\n",
    "        linked_list = linked_list.next\n",
    "    isEmpty(linked_list)\n",
    "    if prev is None:\n",
    "        linked_list.next = None\n",
    "        return\n",
    "    prev.next = linked_list.next\n",
    "\n",
    "\n",
    "def tail_pop(linked_list):\n",
    "    \"\"\" remove last element, return its data and changed linked list\"\"\"\n",
    "    while linked_list.next.next is not None:\n",
    "        linked_list = linked_list.next\n",
    "    removed_data = linked_list.next.data\n",
    "    linked_list.next = None\n",
    "    return removed_data\n",
    "\n",
    "def pop(linked_list, index=-1):\n",
    "    \"\"\" remove element on stated index from linked list, if index=-1, delete last element\n",
    "    return items data and changed list\"\"\"\n",
    "    isEmpty(linked_list)\n",
    "    if index == 0:\n",
    "        linked_list.next = None\n",
    "        return linked_list.data\n",
    "\n",
    "    if index == -1:\n",
    "        return tail_pop(linked_list)\n",
    "\n",
    "    while index > 1:\n",
    "        linked_list = linked_list.next\n",
    "        isEmpty(linked_list)\n",
    "        index-=1\n",
    "    isEmpty(linked_list.next)\n",
    "    removed_data = linked_list.next.data\n",
    "    linked_list.next = linked_list.next.next\n",
    "\n",
    "    return removed_data"
   ],
   "outputs": [],
   "metadata": {}
  },
  {
   "cell_type": "code",
   "execution_count": null,
   "source": [
    "node4 = Node('D')\n",
    "node3 = Node('C', node4)\n",
    "node2 = Node('B', node3)\n",
    "node1 = Node('A', node2)\n",
    "node0 = Node('0', node1)\n",
    "\n",
    "data = pop(node0)\n",
    "print(data)\n",
    "print(getdata(new_lst, -1))\n",
    "print([node3])\n",
    "print()\n",
    "remove(node0, '0')\n",
    "\n",
    "print(getdata(new_lst, 2))\n",
    "print([node0, node1, node2, node3, node4])\n",
    "print()\n",
    "\n",
    "pop(node1, 0)\n",
    "print([node0, node1, node2, node3, node4])\n",
    "pop(node1, 0)\n",
    "print([node0, node1, node2, node3, node4])\n"
   ],
   "outputs": [],
   "metadata": {}
  }
 ],
 "metadata": {
  "orig_nbformat": 4,
  "language_info": {
   "name": "python",
   "version": "3.10.2",
   "mimetype": "text/x-python",
   "codemirror_mode": {
    "name": "ipython",
    "version": 3
   },
   "pygments_lexer": "ipython3",
   "nbconvert_exporter": "python",
   "file_extension": ".py"
  },
  "kernelspec": {
   "name": "python3",
   "display_name": "Python 3.10.2 64-bit"
  },
  "interpreter": {
   "hash": "e7370f93d1d0cde622a1f8e1c04877d8463912d04d973331ad4851f04de6915a"
  }
 },
 "nbformat": 4,
 "nbformat_minor": 2
}